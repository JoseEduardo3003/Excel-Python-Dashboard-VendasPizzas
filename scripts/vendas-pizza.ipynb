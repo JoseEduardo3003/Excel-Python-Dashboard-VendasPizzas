{
 "cells": [
  {
   "cell_type": "markdown",
   "id": "97d4a052",
   "metadata": {},
   "source": [
    "# Manipulando o primeiro arquivo (bPedidos)"
   ]
  },
  {
   "cell_type": "code",
   "execution_count": 1,
   "id": "89451677",
   "metadata": {},
   "outputs": [],
   "source": [
    "import pandas as pd\n",
    "import numpy as np"
   ]
  },
  {
   "cell_type": "code",
   "execution_count": 2,
   "id": "05faa987",
   "metadata": {},
   "outputs": [],
   "source": [
    "# Abrindo o arquivo bPedidos.\n",
    "\n",
    "df1 = pd.read_csv('bPedidos.csv')"
   ]
  },
  {
   "cell_type": "code",
   "execution_count": 3,
   "id": "423133a1",
   "metadata": {},
   "outputs": [
    {
     "data": {
      "text/html": [
       "<div>\n",
       "<style scoped>\n",
       "    .dataframe tbody tr th:only-of-type {\n",
       "        vertical-align: middle;\n",
       "    }\n",
       "\n",
       "    .dataframe tbody tr th {\n",
       "        vertical-align: top;\n",
       "    }\n",
       "\n",
       "    .dataframe thead th {\n",
       "        text-align: right;\n",
       "    }\n",
       "</style>\n",
       "<table border=\"1\" class=\"dataframe\">\n",
       "  <thead>\n",
       "    <tr style=\"text-align: right;\">\n",
       "      <th></th>\n",
       "      <th>order_id</th>\n",
       "      <th>date</th>\n",
       "      <th>time</th>\n",
       "    </tr>\n",
       "  </thead>\n",
       "  <tbody>\n",
       "    <tr>\n",
       "      <th>0</th>\n",
       "      <td>1</td>\n",
       "      <td>2015-01-01</td>\n",
       "      <td>11:38:36</td>\n",
       "    </tr>\n",
       "    <tr>\n",
       "      <th>1</th>\n",
       "      <td>2</td>\n",
       "      <td>2015-01-01</td>\n",
       "      <td>11:57:40</td>\n",
       "    </tr>\n",
       "    <tr>\n",
       "      <th>2</th>\n",
       "      <td>3</td>\n",
       "      <td>2015-01-01</td>\n",
       "      <td>12:12:28</td>\n",
       "    </tr>\n",
       "    <tr>\n",
       "      <th>3</th>\n",
       "      <td>4</td>\n",
       "      <td>2015-01-01</td>\n",
       "      <td>12:16:31</td>\n",
       "    </tr>\n",
       "    <tr>\n",
       "      <th>4</th>\n",
       "      <td>5</td>\n",
       "      <td>2015-01-01</td>\n",
       "      <td>12:21:30</td>\n",
       "    </tr>\n",
       "  </tbody>\n",
       "</table>\n",
       "</div>"
      ],
      "text/plain": [
       "   order_id        date      time\n",
       "0         1  2015-01-01  11:38:36\n",
       "1         2  2015-01-01  11:57:40\n",
       "2         3  2015-01-01  12:12:28\n",
       "3         4  2015-01-01  12:16:31\n",
       "4         5  2015-01-01  12:21:30"
      ]
     },
     "execution_count": 3,
     "metadata": {},
     "output_type": "execute_result"
    }
   ],
   "source": [
    "# Verificando a disposição da tabela.\n",
    "\n",
    "df1.head()"
   ]
  },
  {
   "cell_type": "code",
   "execution_count": 4,
   "id": "49b6c555",
   "metadata": {},
   "outputs": [
    {
     "data": {
      "text/plain": [
       "order_id    0\n",
       "date        0\n",
       "time        0\n",
       "dtype: int64"
      ]
     },
     "execution_count": 4,
     "metadata": {},
     "output_type": "execute_result"
    }
   ],
   "source": [
    "# Verificando existência de valores ausentes.\n",
    "\n",
    "df1.isnull().sum()"
   ]
  },
  {
   "cell_type": "code",
   "execution_count": 5,
   "id": "a4ff5b58",
   "metadata": {},
   "outputs": [
    {
     "data": {
      "text/plain": [
       "0"
      ]
     },
     "execution_count": 5,
     "metadata": {},
     "output_type": "execute_result"
    }
   ],
   "source": [
    "# Verificando a duplicidade na coluna que deve conter valores exclusivos.\n",
    "\n",
    "df1.duplicated(subset = ['order_id']).sum()"
   ]
  },
  {
   "cell_type": "code",
   "execution_count": 6,
   "id": "a88324ad",
   "metadata": {},
   "outputs": [
    {
     "data": {
      "text/plain": [
       "order_id     int64\n",
       "date        object\n",
       "time        object\n",
       "dtype: object"
      ]
     },
     "execution_count": 6,
     "metadata": {},
     "output_type": "execute_result"
    }
   ],
   "source": [
    "# Verificando a tipagem das colunas.\n",
    "\n",
    "df1.dtypes"
   ]
  },
  {
   "cell_type": "code",
   "execution_count": 7,
   "id": "f733622d",
   "metadata": {},
   "outputs": [],
   "source": [
    "# As colunas date e time devem ser tipadas para data.\n",
    "\n",
    "df1['date'] = pd.to_datetime(df1['date'])\n",
    "df1['time'] = pd.to_datetime(df1['time'], format='%H:%M:%S')"
   ]
  },
  {
   "cell_type": "code",
   "execution_count": 8,
   "id": "07ced889",
   "metadata": {},
   "outputs": [
    {
     "data": {
      "text/plain": [
       "order_id             int64\n",
       "date        datetime64[ns]\n",
       "time        datetime64[ns]\n",
       "dtype: object"
      ]
     },
     "execution_count": 8,
     "metadata": {},
     "output_type": "execute_result"
    }
   ],
   "source": [
    "# Verificando se as colunas date e time estão tipadas corretamente.\n",
    "\n",
    "df1.dtypes"
   ]
  },
  {
   "cell_type": "code",
   "execution_count": 9,
   "id": "963e4ff2",
   "metadata": {},
   "outputs": [],
   "source": [
    "# Traduzindo o nome das colunas para finalizar.\n",
    "\n",
    "df1.rename(columns = {'order_id' : 'id_pedido','date': 'data_pedido','time' : 'horario_pedido'}, inplace = True)"
   ]
  },
  {
   "cell_type": "code",
   "execution_count": 10,
   "id": "655f261b",
   "metadata": {},
   "outputs": [
    {
     "data": {
      "text/html": [
       "<div>\n",
       "<style scoped>\n",
       "    .dataframe tbody tr th:only-of-type {\n",
       "        vertical-align: middle;\n",
       "    }\n",
       "\n",
       "    .dataframe tbody tr th {\n",
       "        vertical-align: top;\n",
       "    }\n",
       "\n",
       "    .dataframe thead th {\n",
       "        text-align: right;\n",
       "    }\n",
       "</style>\n",
       "<table border=\"1\" class=\"dataframe\">\n",
       "  <thead>\n",
       "    <tr style=\"text-align: right;\">\n",
       "      <th></th>\n",
       "      <th>id_pedido</th>\n",
       "      <th>data_pedido</th>\n",
       "      <th>horario_pedido</th>\n",
       "    </tr>\n",
       "  </thead>\n",
       "  <tbody>\n",
       "    <tr>\n",
       "      <th>0</th>\n",
       "      <td>1</td>\n",
       "      <td>2015-01-01</td>\n",
       "      <td>1900-01-01 11:38:36</td>\n",
       "    </tr>\n",
       "    <tr>\n",
       "      <th>1</th>\n",
       "      <td>2</td>\n",
       "      <td>2015-01-01</td>\n",
       "      <td>1900-01-01 11:57:40</td>\n",
       "    </tr>\n",
       "    <tr>\n",
       "      <th>2</th>\n",
       "      <td>3</td>\n",
       "      <td>2015-01-01</td>\n",
       "      <td>1900-01-01 12:12:28</td>\n",
       "    </tr>\n",
       "    <tr>\n",
       "      <th>3</th>\n",
       "      <td>4</td>\n",
       "      <td>2015-01-01</td>\n",
       "      <td>1900-01-01 12:16:31</td>\n",
       "    </tr>\n",
       "    <tr>\n",
       "      <th>4</th>\n",
       "      <td>5</td>\n",
       "      <td>2015-01-01</td>\n",
       "      <td>1900-01-01 12:21:30</td>\n",
       "    </tr>\n",
       "  </tbody>\n",
       "</table>\n",
       "</div>"
      ],
      "text/plain": [
       "   id_pedido data_pedido      horario_pedido\n",
       "0          1  2015-01-01 1900-01-01 11:38:36\n",
       "1          2  2015-01-01 1900-01-01 11:57:40\n",
       "2          3  2015-01-01 1900-01-01 12:12:28\n",
       "3          4  2015-01-01 1900-01-01 12:16:31\n",
       "4          5  2015-01-01 1900-01-01 12:21:30"
      ]
     },
     "execution_count": 10,
     "metadata": {},
     "output_type": "execute_result"
    }
   ],
   "source": [
    "# Visualizando a primeira tabela atualizada.\n",
    "\n",
    "df1.head()"
   ]
  },
  {
   "cell_type": "markdown",
   "id": "afa860b1",
   "metadata": {},
   "source": [
    "# Manipulando o segundo arquivo (Detalhes_Pedidos)"
   ]
  },
  {
   "cell_type": "code",
   "execution_count": 11,
   "id": "0a1b2aaa",
   "metadata": {},
   "outputs": [],
   "source": [
    "# Abrindo o arquivo bDetalhes_Pedidos.\n",
    "\n",
    "df2 = pd.read_csv('bDetalhes_Pedidos.csv')"
   ]
  },
  {
   "cell_type": "code",
   "execution_count": 12,
   "id": "6bfc8952",
   "metadata": {},
   "outputs": [
    {
     "data": {
      "text/html": [
       "<div>\n",
       "<style scoped>\n",
       "    .dataframe tbody tr th:only-of-type {\n",
       "        vertical-align: middle;\n",
       "    }\n",
       "\n",
       "    .dataframe tbody tr th {\n",
       "        vertical-align: top;\n",
       "    }\n",
       "\n",
       "    .dataframe thead th {\n",
       "        text-align: right;\n",
       "    }\n",
       "</style>\n",
       "<table border=\"1\" class=\"dataframe\">\n",
       "  <thead>\n",
       "    <tr style=\"text-align: right;\">\n",
       "      <th></th>\n",
       "      <th>order_details_id</th>\n",
       "      <th>order_id</th>\n",
       "      <th>pizza_id</th>\n",
       "      <th>quantity</th>\n",
       "    </tr>\n",
       "  </thead>\n",
       "  <tbody>\n",
       "    <tr>\n",
       "      <th>0</th>\n",
       "      <td>1</td>\n",
       "      <td>1</td>\n",
       "      <td>hawaiian_m</td>\n",
       "      <td>1</td>\n",
       "    </tr>\n",
       "    <tr>\n",
       "      <th>1</th>\n",
       "      <td>2</td>\n",
       "      <td>2</td>\n",
       "      <td>classic_dlx_m</td>\n",
       "      <td>1</td>\n",
       "    </tr>\n",
       "    <tr>\n",
       "      <th>2</th>\n",
       "      <td>3</td>\n",
       "      <td>2</td>\n",
       "      <td>five_cheese_l</td>\n",
       "      <td>1</td>\n",
       "    </tr>\n",
       "    <tr>\n",
       "      <th>3</th>\n",
       "      <td>4</td>\n",
       "      <td>2</td>\n",
       "      <td>ital_supr_l</td>\n",
       "      <td>1</td>\n",
       "    </tr>\n",
       "    <tr>\n",
       "      <th>4</th>\n",
       "      <td>5</td>\n",
       "      <td>2</td>\n",
       "      <td>mexicana_m</td>\n",
       "      <td>1</td>\n",
       "    </tr>\n",
       "  </tbody>\n",
       "</table>\n",
       "</div>"
      ],
      "text/plain": [
       "   order_details_id  order_id       pizza_id  quantity\n",
       "0                 1         1     hawaiian_m         1\n",
       "1                 2         2  classic_dlx_m         1\n",
       "2                 3         2  five_cheese_l         1\n",
       "3                 4         2    ital_supr_l         1\n",
       "4                 5         2     mexicana_m         1"
      ]
     },
     "execution_count": 12,
     "metadata": {},
     "output_type": "execute_result"
    }
   ],
   "source": [
    "# Verificando a disposição da tabela.\n",
    "\n",
    "df2.head()"
   ]
  },
  {
   "cell_type": "code",
   "execution_count": 13,
   "id": "d6572645",
   "metadata": {},
   "outputs": [
    {
     "data": {
      "text/plain": [
       "order_details_id    0\n",
       "order_id            0\n",
       "pizza_id            0\n",
       "quantity            0\n",
       "dtype: int64"
      ]
     },
     "execution_count": 13,
     "metadata": {},
     "output_type": "execute_result"
    }
   ],
   "source": [
    "# Verificando existência de valores ausentes.\n",
    "\n",
    "df2.isnull().sum()"
   ]
  },
  {
   "cell_type": "code",
   "execution_count": 14,
   "id": "ae535695",
   "metadata": {},
   "outputs": [
    {
     "data": {
      "text/plain": [
       "count    48620.000000\n",
       "mean         1.019622\n",
       "std          0.143077\n",
       "min          1.000000\n",
       "25%          1.000000\n",
       "50%          1.000000\n",
       "75%          1.000000\n",
       "max          4.000000\n",
       "Name: quantity, dtype: float64"
      ]
     },
     "execution_count": 14,
     "metadata": {},
     "output_type": "execute_result"
    }
   ],
   "source": [
    "# Como temos uma coluna quantitativa na tabela, é importante verificar sua média e os valores máximo e mínimo\n",
    "# para verificar a existência de outliers\n",
    "df2['quantity'].describe()"
   ]
  },
  {
   "cell_type": "markdown",
   "id": "16db5570",
   "metadata": {},
   "source": [
    "Os valores encontrados são plausíveis, portanto, não são encontrados outliers."
   ]
  },
  {
   "cell_type": "code",
   "execution_count": 15,
   "id": "d94f1528",
   "metadata": {},
   "outputs": [],
   "source": [
    "# Dá visualização dos dados, conclui-se que a coluna 'order_details_id'é um registro individual de cada pizza, \n",
    "# dentro de cada pedido, ou seja, é apenas um índice para a Tabela.\n",
    "# Portanto, não será usada para Análise, podendo ser removida\n",
    "df2 = df2.drop(columns=['order_details_id'])"
   ]
  },
  {
   "cell_type": "code",
   "execution_count": 16,
   "id": "f636673f",
   "metadata": {},
   "outputs": [],
   "source": [
    "# Por fim, traduzindo o nome das colunas\n",
    "df2.rename(columns = {'order_id' : 'id_pedido','pizza_id': 'id_pizza','quantity' : 'quantidade'}, inplace = True)"
   ]
  },
  {
   "cell_type": "code",
   "execution_count": 17,
   "id": "fb33887b",
   "metadata": {},
   "outputs": [
    {
     "data": {
      "text/html": [
       "<div>\n",
       "<style scoped>\n",
       "    .dataframe tbody tr th:only-of-type {\n",
       "        vertical-align: middle;\n",
       "    }\n",
       "\n",
       "    .dataframe tbody tr th {\n",
       "        vertical-align: top;\n",
       "    }\n",
       "\n",
       "    .dataframe thead th {\n",
       "        text-align: right;\n",
       "    }\n",
       "</style>\n",
       "<table border=\"1\" class=\"dataframe\">\n",
       "  <thead>\n",
       "    <tr style=\"text-align: right;\">\n",
       "      <th></th>\n",
       "      <th>id_pedido</th>\n",
       "      <th>id_pizza</th>\n",
       "      <th>quantidade</th>\n",
       "    </tr>\n",
       "  </thead>\n",
       "  <tbody>\n",
       "    <tr>\n",
       "      <th>0</th>\n",
       "      <td>1</td>\n",
       "      <td>hawaiian_m</td>\n",
       "      <td>1</td>\n",
       "    </tr>\n",
       "    <tr>\n",
       "      <th>1</th>\n",
       "      <td>2</td>\n",
       "      <td>classic_dlx_m</td>\n",
       "      <td>1</td>\n",
       "    </tr>\n",
       "    <tr>\n",
       "      <th>2</th>\n",
       "      <td>2</td>\n",
       "      <td>five_cheese_l</td>\n",
       "      <td>1</td>\n",
       "    </tr>\n",
       "    <tr>\n",
       "      <th>3</th>\n",
       "      <td>2</td>\n",
       "      <td>ital_supr_l</td>\n",
       "      <td>1</td>\n",
       "    </tr>\n",
       "    <tr>\n",
       "      <th>4</th>\n",
       "      <td>2</td>\n",
       "      <td>mexicana_m</td>\n",
       "      <td>1</td>\n",
       "    </tr>\n",
       "  </tbody>\n",
       "</table>\n",
       "</div>"
      ],
      "text/plain": [
       "   id_pedido       id_pizza  quantidade\n",
       "0          1     hawaiian_m           1\n",
       "1          2  classic_dlx_m           1\n",
       "2          2  five_cheese_l           1\n",
       "3          2    ital_supr_l           1\n",
       "4          2     mexicana_m           1"
      ]
     },
     "execution_count": 17,
     "metadata": {},
     "output_type": "execute_result"
    }
   ],
   "source": [
    "# Visualizando a segunda tabela atualizada.\n",
    "\n",
    "df2.head()"
   ]
  },
  {
   "cell_type": "markdown",
   "id": "f16d9513",
   "metadata": {},
   "source": [
    "# Manipulando o terceiro arquivo (Pizzas)"
   ]
  },
  {
   "cell_type": "code",
   "execution_count": 18,
   "id": "b6ba326a",
   "metadata": {},
   "outputs": [],
   "source": [
    "# Abrindo o arquivo bPizzas.\n",
    "\n",
    "df3 = pd.read_csv('bPizzas.csv')"
   ]
  },
  {
   "cell_type": "code",
   "execution_count": 19,
   "id": "5921a8b6",
   "metadata": {},
   "outputs": [
    {
     "data": {
      "text/html": [
       "<div>\n",
       "<style scoped>\n",
       "    .dataframe tbody tr th:only-of-type {\n",
       "        vertical-align: middle;\n",
       "    }\n",
       "\n",
       "    .dataframe tbody tr th {\n",
       "        vertical-align: top;\n",
       "    }\n",
       "\n",
       "    .dataframe thead th {\n",
       "        text-align: right;\n",
       "    }\n",
       "</style>\n",
       "<table border=\"1\" class=\"dataframe\">\n",
       "  <thead>\n",
       "    <tr style=\"text-align: right;\">\n",
       "      <th></th>\n",
       "      <th>pizza_id</th>\n",
       "      <th>pizza_type_id</th>\n",
       "      <th>size</th>\n",
       "      <th>price</th>\n",
       "    </tr>\n",
       "  </thead>\n",
       "  <tbody>\n",
       "    <tr>\n",
       "      <th>0</th>\n",
       "      <td>bbq_ckn_s</td>\n",
       "      <td>bbq_ckn</td>\n",
       "      <td>S</td>\n",
       "      <td>12.75</td>\n",
       "    </tr>\n",
       "    <tr>\n",
       "      <th>1</th>\n",
       "      <td>bbq_ckn_m</td>\n",
       "      <td>bbq_ckn</td>\n",
       "      <td>M</td>\n",
       "      <td>16.75</td>\n",
       "    </tr>\n",
       "    <tr>\n",
       "      <th>2</th>\n",
       "      <td>bbq_ckn_l</td>\n",
       "      <td>bbq_ckn</td>\n",
       "      <td>L</td>\n",
       "      <td>20.75</td>\n",
       "    </tr>\n",
       "    <tr>\n",
       "      <th>3</th>\n",
       "      <td>cali_ckn_s</td>\n",
       "      <td>cali_ckn</td>\n",
       "      <td>S</td>\n",
       "      <td>12.75</td>\n",
       "    </tr>\n",
       "    <tr>\n",
       "      <th>4</th>\n",
       "      <td>cali_ckn_m</td>\n",
       "      <td>cali_ckn</td>\n",
       "      <td>M</td>\n",
       "      <td>16.75</td>\n",
       "    </tr>\n",
       "  </tbody>\n",
       "</table>\n",
       "</div>"
      ],
      "text/plain": [
       "     pizza_id pizza_type_id size  price\n",
       "0   bbq_ckn_s       bbq_ckn    S  12.75\n",
       "1   bbq_ckn_m       bbq_ckn    M  16.75\n",
       "2   bbq_ckn_l       bbq_ckn    L  20.75\n",
       "3  cali_ckn_s      cali_ckn    S  12.75\n",
       "4  cali_ckn_m      cali_ckn    M  16.75"
      ]
     },
     "execution_count": 19,
     "metadata": {},
     "output_type": "execute_result"
    }
   ],
   "source": [
    "# Verificando a disposição da tabela.\n",
    "\n",
    "df3.head()"
   ]
  },
  {
   "cell_type": "code",
   "execution_count": 20,
   "id": "da269849",
   "metadata": {},
   "outputs": [
    {
     "data": {
      "text/plain": [
       "pizza_id         0\n",
       "pizza_type_id    0\n",
       "size             0\n",
       "price            0\n",
       "dtype: int64"
      ]
     },
     "execution_count": 20,
     "metadata": {},
     "output_type": "execute_result"
    }
   ],
   "source": [
    "# Verificando existência de valores ausentes.\n",
    "\n",
    "df3.isnull().sum()"
   ]
  },
  {
   "cell_type": "code",
   "execution_count": 21,
   "id": "2393174c",
   "metadata": {},
   "outputs": [
    {
     "data": {
      "text/plain": [
       "0"
      ]
     },
     "execution_count": 21,
     "metadata": {},
     "output_type": "execute_result"
    }
   ],
   "source": [
    "# Para este caso, verificamos apenas a duplicidade na coluna de pizza_id, uma vez que as outras podem e vão se repetir.\n",
    "\n",
    "df3.duplicated(subset = ['pizza_id']).sum()"
   ]
  },
  {
   "cell_type": "code",
   "execution_count": 22,
   "id": "6b25140a",
   "metadata": {},
   "outputs": [
    {
     "data": {
      "text/plain": [
       "count    96.000000\n",
       "mean     16.440625\n",
       "std       4.090266\n",
       "min       9.750000\n",
       "25%      12.500000\n",
       "50%      16.250000\n",
       "75%      20.250000\n",
       "max      35.950000\n",
       "Name: price, dtype: float64"
      ]
     },
     "execution_count": 22,
     "metadata": {},
     "output_type": "execute_result"
    }
   ],
   "source": [
    "# Verificando agora os preços das pizzas (Variável Quantitativa), para encontrar possíveis outliers\n",
    "\n",
    "df3['price'].describe()"
   ]
  },
  {
   "cell_type": "markdown",
   "id": "befa9292",
   "metadata": {},
   "source": [
    "Novamente, valores plausíveis, portanto, sem outliers"
   ]
  },
  {
   "cell_type": "code",
   "execution_count": 23,
   "id": "a8cb0692",
   "metadata": {},
   "outputs": [
    {
     "data": {
      "text/plain": [
       "array(['S', 'M', 'L', 'XL', 'XXL'], dtype=object)"
      ]
     },
     "execution_count": 23,
     "metadata": {},
     "output_type": "execute_result"
    }
   ],
   "source": [
    "# Importante também, verificar os tamanhos encontrados na tabela (em busca de algum erro)\n",
    "\n",
    "df3['size'].unique()"
   ]
  },
  {
   "cell_type": "markdown",
   "id": "c34f68c2",
   "metadata": {},
   "source": [
    "Tudo certo por aqui também, o único porém é que as siglas estão em inglês, portanto vamos substituir as letras para traduzí-las, seguindo o seguinte padrao:\n",
    "\n",
    "S = Pequena/P; \n",
    "\n",
    "M = Média/M (se mantém);\n",
    "\n",
    "L = Grande/G;\n",
    "\n",
    "XL = Gigante/GG;\n",
    "\n",
    "XXL = Extra Grande/XG;.\n"
   ]
  },
  {
   "cell_type": "code",
   "execution_count": 24,
   "id": "68316c0f",
   "metadata": {},
   "outputs": [],
   "source": [
    "df3['size'] = (\n",
    "    df3['size']\n",
    "    .str.replace('XXL', 'XG', regex=True)\n",
    "    .str.replace('XL', 'GG', regex=True)\n",
    "    .str.replace('L', 'G', regex=True) \n",
    "    .str.replace('S', 'P', regex=True)\n",
    ")"
   ]
  },
  {
   "cell_type": "code",
   "execution_count": 25,
   "id": "37e5868f",
   "metadata": {},
   "outputs": [],
   "source": [
    "# Por fim, renomeando as colunas.\n",
    "df3.rename(columns = {'pizza_id' : 'id_pizza','pizza_type_id' : 'id_tipo_pizza','size' : 'tamanho','price':'preço'}, \n",
    "           inplace = True)"
   ]
  },
  {
   "cell_type": "code",
   "execution_count": 26,
   "id": "5efef309",
   "metadata": {},
   "outputs": [
    {
     "data": {
      "text/html": [
       "<div>\n",
       "<style scoped>\n",
       "    .dataframe tbody tr th:only-of-type {\n",
       "        vertical-align: middle;\n",
       "    }\n",
       "\n",
       "    .dataframe tbody tr th {\n",
       "        vertical-align: top;\n",
       "    }\n",
       "\n",
       "    .dataframe thead th {\n",
       "        text-align: right;\n",
       "    }\n",
       "</style>\n",
       "<table border=\"1\" class=\"dataframe\">\n",
       "  <thead>\n",
       "    <tr style=\"text-align: right;\">\n",
       "      <th></th>\n",
       "      <th>id_pizza</th>\n",
       "      <th>id_tipo_pizza</th>\n",
       "      <th>tamanho</th>\n",
       "      <th>preço</th>\n",
       "    </tr>\n",
       "  </thead>\n",
       "  <tbody>\n",
       "    <tr>\n",
       "      <th>0</th>\n",
       "      <td>bbq_ckn_s</td>\n",
       "      <td>bbq_ckn</td>\n",
       "      <td>P</td>\n",
       "      <td>12.75</td>\n",
       "    </tr>\n",
       "    <tr>\n",
       "      <th>1</th>\n",
       "      <td>bbq_ckn_m</td>\n",
       "      <td>bbq_ckn</td>\n",
       "      <td>M</td>\n",
       "      <td>16.75</td>\n",
       "    </tr>\n",
       "    <tr>\n",
       "      <th>2</th>\n",
       "      <td>bbq_ckn_l</td>\n",
       "      <td>bbq_ckn</td>\n",
       "      <td>G</td>\n",
       "      <td>20.75</td>\n",
       "    </tr>\n",
       "    <tr>\n",
       "      <th>3</th>\n",
       "      <td>cali_ckn_s</td>\n",
       "      <td>cali_ckn</td>\n",
       "      <td>P</td>\n",
       "      <td>12.75</td>\n",
       "    </tr>\n",
       "    <tr>\n",
       "      <th>4</th>\n",
       "      <td>cali_ckn_m</td>\n",
       "      <td>cali_ckn</td>\n",
       "      <td>M</td>\n",
       "      <td>16.75</td>\n",
       "    </tr>\n",
       "  </tbody>\n",
       "</table>\n",
       "</div>"
      ],
      "text/plain": [
       "     id_pizza id_tipo_pizza tamanho  preço\n",
       "0   bbq_ckn_s       bbq_ckn       P  12.75\n",
       "1   bbq_ckn_m       bbq_ckn       M  16.75\n",
       "2   bbq_ckn_l       bbq_ckn       G  20.75\n",
       "3  cali_ckn_s      cali_ckn       P  12.75\n",
       "4  cali_ckn_m      cali_ckn       M  16.75"
      ]
     },
     "execution_count": 26,
     "metadata": {},
     "output_type": "execute_result"
    }
   ],
   "source": [
    "# Visualizando a terceira tabela atualizada.\n",
    "\n",
    "df3.head()"
   ]
  },
  {
   "cell_type": "markdown",
   "id": "7e321e71",
   "metadata": {},
   "source": [
    "# Manipulando o quarto e último arquivo (Tipos_Pizzas)"
   ]
  },
  {
   "cell_type": "code",
   "execution_count": 27,
   "id": "9f026f1b",
   "metadata": {},
   "outputs": [],
   "source": [
    "# Abrindo o arquivo bTipos_Pizzas.\n",
    "\n",
    "df4 = pd.read_csv('bTipos_Pizza.csv',encoding = 'latin1')"
   ]
  },
  {
   "cell_type": "code",
   "execution_count": 28,
   "id": "d6a342f6",
   "metadata": {},
   "outputs": [
    {
     "data": {
      "text/html": [
       "<div>\n",
       "<style scoped>\n",
       "    .dataframe tbody tr th:only-of-type {\n",
       "        vertical-align: middle;\n",
       "    }\n",
       "\n",
       "    .dataframe tbody tr th {\n",
       "        vertical-align: top;\n",
       "    }\n",
       "\n",
       "    .dataframe thead th {\n",
       "        text-align: right;\n",
       "    }\n",
       "</style>\n",
       "<table border=\"1\" class=\"dataframe\">\n",
       "  <thead>\n",
       "    <tr style=\"text-align: right;\">\n",
       "      <th></th>\n",
       "      <th>pizza_type_id</th>\n",
       "      <th>name</th>\n",
       "      <th>category</th>\n",
       "      <th>ingredients</th>\n",
       "    </tr>\n",
       "  </thead>\n",
       "  <tbody>\n",
       "    <tr>\n",
       "      <th>0</th>\n",
       "      <td>bbq_ckn</td>\n",
       "      <td>The Barbecue Chicken Pizza</td>\n",
       "      <td>Chicken</td>\n",
       "      <td>Barbecued Chicken, Red Peppers, Green Peppers,...</td>\n",
       "    </tr>\n",
       "    <tr>\n",
       "      <th>1</th>\n",
       "      <td>cali_ckn</td>\n",
       "      <td>The California Chicken Pizza</td>\n",
       "      <td>Chicken</td>\n",
       "      <td>Chicken, Artichoke, Spinach, Garlic, Jalapeno ...</td>\n",
       "    </tr>\n",
       "    <tr>\n",
       "      <th>2</th>\n",
       "      <td>ckn_alfredo</td>\n",
       "      <td>The Chicken Alfredo Pizza</td>\n",
       "      <td>Chicken</td>\n",
       "      <td>Chicken, Red Onions, Red Peppers, Mushrooms, A...</td>\n",
       "    </tr>\n",
       "    <tr>\n",
       "      <th>3</th>\n",
       "      <td>ckn_pesto</td>\n",
       "      <td>The Chicken Pesto Pizza</td>\n",
       "      <td>Chicken</td>\n",
       "      <td>Chicken, Tomatoes, Red Peppers, Spinach, Garli...</td>\n",
       "    </tr>\n",
       "    <tr>\n",
       "      <th>4</th>\n",
       "      <td>southw_ckn</td>\n",
       "      <td>The Southwest Chicken Pizza</td>\n",
       "      <td>Chicken</td>\n",
       "      <td>Chicken, Tomatoes, Red Peppers, Red Onions, Ja...</td>\n",
       "    </tr>\n",
       "  </tbody>\n",
       "</table>\n",
       "</div>"
      ],
      "text/plain": [
       "  pizza_type_id                          name category  \\\n",
       "0       bbq_ckn    The Barbecue Chicken Pizza  Chicken   \n",
       "1      cali_ckn  The California Chicken Pizza  Chicken   \n",
       "2   ckn_alfredo     The Chicken Alfredo Pizza  Chicken   \n",
       "3     ckn_pesto       The Chicken Pesto Pizza  Chicken   \n",
       "4    southw_ckn   The Southwest Chicken Pizza  Chicken   \n",
       "\n",
       "                                         ingredients  \n",
       "0  Barbecued Chicken, Red Peppers, Green Peppers,...  \n",
       "1  Chicken, Artichoke, Spinach, Garlic, Jalapeno ...  \n",
       "2  Chicken, Red Onions, Red Peppers, Mushrooms, A...  \n",
       "3  Chicken, Tomatoes, Red Peppers, Spinach, Garli...  \n",
       "4  Chicken, Tomatoes, Red Peppers, Red Onions, Ja...  "
      ]
     },
     "execution_count": 28,
     "metadata": {},
     "output_type": "execute_result"
    }
   ],
   "source": [
    "# Verificando a disposição da tabela.\n",
    "\n",
    "df4.head()"
   ]
  },
  {
   "cell_type": "code",
   "execution_count": 29,
   "id": "10564bec",
   "metadata": {},
   "outputs": [
    {
     "data": {
      "text/plain": [
       "pizza_type_id    0\n",
       "name             0\n",
       "category         0\n",
       "ingredients      0\n",
       "dtype: int64"
      ]
     },
     "execution_count": 29,
     "metadata": {},
     "output_type": "execute_result"
    }
   ],
   "source": [
    "# Verificando existência de valores ausentes.\n",
    "\n",
    "df4.isnull().sum()"
   ]
  },
  {
   "cell_type": "code",
   "execution_count": 30,
   "id": "5152c615",
   "metadata": {},
   "outputs": [
    {
     "name": "stdout",
     "output_type": "stream",
     "text": [
      "0 0\n"
     ]
    }
   ],
   "source": [
    "# Verificando se há duplicidade nas colunas id_tipo_pizza e nome.\n",
    "\n",
    "d1 = df4['pizza_type_id'].duplicated().sum()\n",
    "d2 = df4['name'].duplicated().sum()\n",
    "print(d1,d2)"
   ]
  },
  {
   "cell_type": "markdown",
   "id": "d44e2256",
   "metadata": {},
   "source": [
    "Para o projeto em questão, não será utilizada a coluna de Ingredientes. Logo, ela já pode ser removida."
   ]
  },
  {
   "cell_type": "code",
   "execution_count": 31,
   "id": "83e89103",
   "metadata": {},
   "outputs": [],
   "source": [
    "# Remoção da coluna ingredients\n",
    "\n",
    "df4 = df4.drop(columns=['ingredients'])"
   ]
  },
  {
   "cell_type": "markdown",
   "id": "c19b8517",
   "metadata": {},
   "source": [
    "A tradução dos nomes das pizzas para o português será feita diretamente na planilha Excel, utilizando PROCV para relacionar os IDs com seus respectivos nomes traduzidos.\n",
    "\n",
    "Essa abordagem facilita a visualização e o entendimento dos dados durante a análise e a criação dos relatórios, além de preservar a consistência dos identificadores no banco de dados."
   ]
  },
  {
   "cell_type": "code",
   "execution_count": 32,
   "id": "535924dd",
   "metadata": {},
   "outputs": [],
   "source": [
    "# Portanto, finalizaremos a parte de Python renomeando as colunas e exportando o último arquivo.\n",
    "\n",
    "df4.rename(columns = {'pizza_type_id' : 'id_tipo_pizza', 'name' : 'nome_pizza', 'category' : 'categoria'}, inplace = True)"
   ]
  },
  {
   "cell_type": "markdown",
   "id": "35779277",
   "metadata": {},
   "source": [
    "# Colunas Calculadas"
   ]
  },
  {
   "cell_type": "markdown",
   "id": "d3907085",
   "metadata": {},
   "source": [
    "Após realizar a limpeza e padronização de cada uma das tabelas do dataset Pizza Sales, esta seção é dedicada à criação das colunas calculadas necessárias para responder às perguntas do projeto."
   ]
  },
  {
   "cell_type": "markdown",
   "id": "ced76f8a",
   "metadata": {},
   "source": [
    "# 1. Quantos clientes por dia a pizzaria teve?"
   ]
  },
  {
   "cell_type": "markdown",
   "id": "d069f73c",
   "metadata": {},
   "source": [
    "Não será necessária coluna nova. Será respondida diretamente no Excel."
   ]
  },
  {
   "cell_type": "markdown",
   "id": "87d12cd7",
   "metadata": {},
   "source": [
    "# 2. Quais os horários de pico de pedido?"
   ]
  },
  {
   "cell_type": "code",
   "execution_count": 33,
   "id": "f926e810",
   "metadata": {},
   "outputs": [],
   "source": [
    "# Para facilitar a análise será criada a coluna hora.\n",
    "df1['hora'] = pd.to_datetime(df1['horario_pedido']).dt.hour\n",
    "\n",
    "# Além disso, pode-se remover a coluna 'horario_pedido', pois ela nao será mais útil\n",
    "\n",
    "df1 = df1.drop(columns=['horario_pedido'])"
   ]
  },
  {
   "cell_type": "code",
   "execution_count": 34,
   "id": "257cd2a0",
   "metadata": {},
   "outputs": [
    {
     "data": {
      "text/html": [
       "<div>\n",
       "<style scoped>\n",
       "    .dataframe tbody tr th:only-of-type {\n",
       "        vertical-align: middle;\n",
       "    }\n",
       "\n",
       "    .dataframe tbody tr th {\n",
       "        vertical-align: top;\n",
       "    }\n",
       "\n",
       "    .dataframe thead th {\n",
       "        text-align: right;\n",
       "    }\n",
       "</style>\n",
       "<table border=\"1\" class=\"dataframe\">\n",
       "  <thead>\n",
       "    <tr style=\"text-align: right;\">\n",
       "      <th></th>\n",
       "      <th>id_pedido</th>\n",
       "      <th>data_pedido</th>\n",
       "      <th>hora</th>\n",
       "    </tr>\n",
       "  </thead>\n",
       "  <tbody>\n",
       "    <tr>\n",
       "      <th>0</th>\n",
       "      <td>1</td>\n",
       "      <td>2015-01-01</td>\n",
       "      <td>11</td>\n",
       "    </tr>\n",
       "    <tr>\n",
       "      <th>1</th>\n",
       "      <td>2</td>\n",
       "      <td>2015-01-01</td>\n",
       "      <td>11</td>\n",
       "    </tr>\n",
       "    <tr>\n",
       "      <th>2</th>\n",
       "      <td>3</td>\n",
       "      <td>2015-01-01</td>\n",
       "      <td>12</td>\n",
       "    </tr>\n",
       "    <tr>\n",
       "      <th>3</th>\n",
       "      <td>4</td>\n",
       "      <td>2015-01-01</td>\n",
       "      <td>12</td>\n",
       "    </tr>\n",
       "    <tr>\n",
       "      <th>4</th>\n",
       "      <td>5</td>\n",
       "      <td>2015-01-01</td>\n",
       "      <td>12</td>\n",
       "    </tr>\n",
       "  </tbody>\n",
       "</table>\n",
       "</div>"
      ],
      "text/plain": [
       "   id_pedido data_pedido  hora\n",
       "0          1  2015-01-01    11\n",
       "1          2  2015-01-01    11\n",
       "2          3  2015-01-01    12\n",
       "3          4  2015-01-01    12\n",
       "4          5  2015-01-01    12"
      ]
     },
     "execution_count": 34,
     "metadata": {},
     "output_type": "execute_result"
    }
   ],
   "source": [
    "# Resultado da primeira planilha com a nova coluna hora.\n",
    "df1.head()"
   ]
  },
  {
   "cell_type": "markdown",
   "id": "3f8bc755",
   "metadata": {},
   "source": [
    "# 3. Quais são as pizzas mais vendidas (bestsellers)?"
   ]
  },
  {
   "cell_type": "markdown",
   "id": "0475fd78",
   "metadata": {},
   "source": [
    "Não será necessária coluna nova. Será respondida diretamente no Excel."
   ]
  },
  {
   "cell_type": "markdown",
   "id": "bb66ff29",
   "metadata": {},
   "source": [
    "# 4. Quantas pizzas normalmente há em um pedido?"
   ]
  },
  {
   "cell_type": "code",
   "execution_count": 35,
   "id": "5b0ea6f2",
   "metadata": {},
   "outputs": [],
   "source": [
    "# É necessário agrupar a quantidade por id_pedido (Ambos presentes na tabela bDetalhes_Pedidos) e adicionar essa nova coluna\n",
    "# à tabela bPedidos.\n",
    "\n",
    "qtd_pizzas = df2.groupby('id_pedido')['quantidade'].sum().reset_index()\n",
    "\n",
    "# Nomeando a coluna que vai para bPedidos.\n",
    "\n",
    "qtd_pizzas = qtd_pizzas.rename(columns={'quantidade': 'qtd_pizzas'})\n",
    "\n",
    "# Adicionando a nova coluna em bPedidos com Left Join (Mantendo tudo dá primeira tabela)\n",
    "\n",
    "df1 = df1.merge(qtd_pizzas, on='id_pedido', how='left')"
   ]
  },
  {
   "cell_type": "code",
   "execution_count": 36,
   "id": "af91a94b",
   "metadata": {},
   "outputs": [
    {
     "data": {
      "text/html": [
       "<div>\n",
       "<style scoped>\n",
       "    .dataframe tbody tr th:only-of-type {\n",
       "        vertical-align: middle;\n",
       "    }\n",
       "\n",
       "    .dataframe tbody tr th {\n",
       "        vertical-align: top;\n",
       "    }\n",
       "\n",
       "    .dataframe thead th {\n",
       "        text-align: right;\n",
       "    }\n",
       "</style>\n",
       "<table border=\"1\" class=\"dataframe\">\n",
       "  <thead>\n",
       "    <tr style=\"text-align: right;\">\n",
       "      <th></th>\n",
       "      <th>id_pedido</th>\n",
       "      <th>data_pedido</th>\n",
       "      <th>hora</th>\n",
       "      <th>qtd_pizzas</th>\n",
       "    </tr>\n",
       "  </thead>\n",
       "  <tbody>\n",
       "    <tr>\n",
       "      <th>0</th>\n",
       "      <td>1</td>\n",
       "      <td>2015-01-01</td>\n",
       "      <td>11</td>\n",
       "      <td>1</td>\n",
       "    </tr>\n",
       "    <tr>\n",
       "      <th>1</th>\n",
       "      <td>2</td>\n",
       "      <td>2015-01-01</td>\n",
       "      <td>11</td>\n",
       "      <td>5</td>\n",
       "    </tr>\n",
       "    <tr>\n",
       "      <th>2</th>\n",
       "      <td>3</td>\n",
       "      <td>2015-01-01</td>\n",
       "      <td>12</td>\n",
       "      <td>2</td>\n",
       "    </tr>\n",
       "    <tr>\n",
       "      <th>3</th>\n",
       "      <td>4</td>\n",
       "      <td>2015-01-01</td>\n",
       "      <td>12</td>\n",
       "      <td>1</td>\n",
       "    </tr>\n",
       "    <tr>\n",
       "      <th>4</th>\n",
       "      <td>5</td>\n",
       "      <td>2015-01-01</td>\n",
       "      <td>12</td>\n",
       "      <td>1</td>\n",
       "    </tr>\n",
       "  </tbody>\n",
       "</table>\n",
       "</div>"
      ],
      "text/plain": [
       "   id_pedido data_pedido  hora  qtd_pizzas\n",
       "0          1  2015-01-01    11           1\n",
       "1          2  2015-01-01    11           5\n",
       "2          3  2015-01-01    12           2\n",
       "3          4  2015-01-01    12           1\n",
       "4          5  2015-01-01    12           1"
      ]
     },
     "execution_count": 36,
     "metadata": {},
     "output_type": "execute_result"
    }
   ],
   "source": [
    "# Visualizando o resultado.\n",
    "df1.head()"
   ]
  },
  {
   "cell_type": "markdown",
   "id": "2e6c1f67",
   "metadata": {},
   "source": [
    "# Qual o faturamento do ano?"
   ]
  },
  {
   "cell_type": "code",
   "execution_count": 37,
   "id": "ed2c47bd",
   "metadata": {},
   "outputs": [],
   "source": [
    "# Para isso devemos multiplicar as quantidades (Tabela bDetalhes_Pedidos) pelo preço de cada pizza (Tabela bPizzas)\n",
    "# Portanto, será criada uma nova Tabela, permitindo a multiplicação de valores de tabelas diferentes.\n",
    "\n",
    "df_vendas = df2.merge(df3[['id_pizza', 'preço']], on='id_pizza', how ='left')\n",
    "df_vendas['faturamento_por_venda'] = df_vendas['quantidade'] * df_vendas['preço']\n"
   ]
  },
  {
   "cell_type": "code",
   "execution_count": 38,
   "id": "ddeafd42",
   "metadata": {},
   "outputs": [
    {
     "data": {
      "text/html": [
       "<div>\n",
       "<style scoped>\n",
       "    .dataframe tbody tr th:only-of-type {\n",
       "        vertical-align: middle;\n",
       "    }\n",
       "\n",
       "    .dataframe tbody tr th {\n",
       "        vertical-align: top;\n",
       "    }\n",
       "\n",
       "    .dataframe thead th {\n",
       "        text-align: right;\n",
       "    }\n",
       "</style>\n",
       "<table border=\"1\" class=\"dataframe\">\n",
       "  <thead>\n",
       "    <tr style=\"text-align: right;\">\n",
       "      <th></th>\n",
       "      <th>id_pedido</th>\n",
       "      <th>id_pizza</th>\n",
       "      <th>quantidade</th>\n",
       "      <th>preço</th>\n",
       "      <th>faturamento_por_venda</th>\n",
       "    </tr>\n",
       "  </thead>\n",
       "  <tbody>\n",
       "    <tr>\n",
       "      <th>0</th>\n",
       "      <td>1</td>\n",
       "      <td>hawaiian_m</td>\n",
       "      <td>1</td>\n",
       "      <td>13.25</td>\n",
       "      <td>13.25</td>\n",
       "    </tr>\n",
       "    <tr>\n",
       "      <th>1</th>\n",
       "      <td>2</td>\n",
       "      <td>classic_dlx_m</td>\n",
       "      <td>1</td>\n",
       "      <td>16.00</td>\n",
       "      <td>16.00</td>\n",
       "    </tr>\n",
       "    <tr>\n",
       "      <th>2</th>\n",
       "      <td>2</td>\n",
       "      <td>five_cheese_l</td>\n",
       "      <td>1</td>\n",
       "      <td>18.50</td>\n",
       "      <td>18.50</td>\n",
       "    </tr>\n",
       "    <tr>\n",
       "      <th>3</th>\n",
       "      <td>2</td>\n",
       "      <td>ital_supr_l</td>\n",
       "      <td>1</td>\n",
       "      <td>20.75</td>\n",
       "      <td>20.75</td>\n",
       "    </tr>\n",
       "    <tr>\n",
       "      <th>4</th>\n",
       "      <td>2</td>\n",
       "      <td>mexicana_m</td>\n",
       "      <td>1</td>\n",
       "      <td>16.00</td>\n",
       "      <td>16.00</td>\n",
       "    </tr>\n",
       "  </tbody>\n",
       "</table>\n",
       "</div>"
      ],
      "text/plain": [
       "   id_pedido       id_pizza  quantidade  preço  faturamento_por_venda\n",
       "0          1     hawaiian_m           1  13.25                  13.25\n",
       "1          2  classic_dlx_m           1  16.00                  16.00\n",
       "2          2  five_cheese_l           1  18.50                  18.50\n",
       "3          2    ital_supr_l           1  20.75                  20.75\n",
       "4          2     mexicana_m           1  16.00                  16.00"
      ]
     },
     "execution_count": 38,
     "metadata": {},
     "output_type": "execute_result"
    }
   ],
   "source": [
    "# Agora é possível visualizar o faturamento de cada venda, facilitando a obtenção do faturamento total\n",
    "# Cálculo este, que será apresentado no Excel\n",
    "df_vendas.head()"
   ]
  },
  {
   "cell_type": "markdown",
   "id": "24185545",
   "metadata": {},
   "source": [
    "# Deve-se retirar ou colocar em promoção alguma pizza?"
   ]
  },
  {
   "cell_type": "markdown",
   "id": "de091be9",
   "metadata": {},
   "source": [
    "Não será necessária coluna nova. Será respondida diretamente no Excel."
   ]
  },
  {
   "cell_type": "markdown",
   "id": "1904074b",
   "metadata": {},
   "source": [
    "# Formatando o arquivo para o formato .xlsx"
   ]
  },
  {
   "cell_type": "code",
   "execution_count": null,
   "id": "9f70f948",
   "metadata": {},
   "outputs": [],
   "source": [
    "# Para finalizar o projeto, o arquivo é convertido para .xlsx e \n",
    "# todas tabelas vão para um único arquivo, que será aberto no Excel\n",
    "\n",
    "with pd.ExcelWriter('Projeto_Pizzaria.xlsx', engine='openpyxl') as writer:\n",
    "    df1.to_excel(writer, sheet_name='Pedidos', index=False)\n",
    "    df2.to_excel(writer, sheet_name='Detalhes_Pedido', index=False)\n",
    "    df3.to_excel(writer, sheet_name='Pizzas', index=False)\n",
    "    df4.to_excel(writer, sheet_name='Tipos_Pizza', index=False)\n",
    "    df_vendas.to_excel(writer, sheet_name='Vendas', index=False)"
   ]
  }
 ],
 "metadata": {
  "kernelspec": {
   "display_name": "Python 3 (ipykernel)",
   "language": "python",
   "name": "python3"
  },
  "language_info": {
   "codemirror_mode": {
    "name": "ipython",
    "version": 3
   },
   "file_extension": ".py",
   "mimetype": "text/x-python",
   "name": "python",
   "nbconvert_exporter": "python",
   "pygments_lexer": "ipython3",
   "version": "3.9.13"
  }
 },
 "nbformat": 4,
 "nbformat_minor": 5
}
